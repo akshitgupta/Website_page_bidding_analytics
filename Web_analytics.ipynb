{
  "nbformat": 4,
  "nbformat_minor": 0,
  "metadata": {
    "colab": {
      "name": "Web_analytics.ipynb",
      "provenance": [],
      "collapsed_sections": [],
      "authorship_tag": "ABX9TyMix5cNxEce03IwV+kuQNI7",
      "include_colab_link": true
    },
    "kernelspec": {
      "name": "python3",
      "display_name": "Python 3"
    }
  },
  "cells": [
    {
      "cell_type": "markdown",
      "metadata": {
        "id": "view-in-github",
        "colab_type": "text"
      },
      "source": [
        "<a href=\"https://colab.research.google.com/github/akshitgupta/Website_page_bidding_analytics/blob/main/Web_analytics.ipynb\" target=\"_parent\"><img src=\"https://colab.research.google.com/assets/colab-badge.svg\" alt=\"Open In Colab\"/></a>"
      ]
    },
    {
      "cell_type": "code",
      "metadata": {
        "id": "hYDjlk2XjVaq"
      },
      "source": [
        "import pandas as pd\n",
        "import matplotlib.pyplot as plt\n",
        "df= pd.read_csv('Dataset2.csv')"
      ],
      "execution_count": null,
      "outputs": []
    },
    {
      "cell_type": "code",
      "metadata": {
        "id": "DsE1l32i0qRi",
        "outputId": "843952ad-7d52-4ca5-c3ff-f8a8f88ba031",
        "colab": {
          "base_uri": "https://localhost:8080/",
          "height": 34
        }
      },
      "source": [
        "df.shape"
      ],
      "execution_count": null,
      "outputs": [
        {
          "output_type": "execute_result",
          "data": {
            "text/plain": [
              "(567291, 17)"
            ]
          },
          "metadata": {
            "tags": []
          },
          "execution_count": 32
        }
      ]
    },
    {
      "cell_type": "code",
      "metadata": {
        "id": "B5RdA1c_0_Nm",
        "outputId": "935fd952-d22c-47df-9b0e-9d2850901741",
        "colab": {
          "base_uri": "https://localhost:8080/",
          "height": 199
        }
      },
      "source": [
        "df.head(2)"
      ],
      "execution_count": null,
      "outputs": [
        {
          "output_type": "execute_result",
          "data": {
            "text/html": [
              "<div>\n",
              "<style scoped>\n",
              "    .dataframe tbody tr th:only-of-type {\n",
              "        vertical-align: middle;\n",
              "    }\n",
              "\n",
              "    .dataframe tbody tr th {\n",
              "        vertical-align: top;\n",
              "    }\n",
              "\n",
              "    .dataframe thead th {\n",
              "        text-align: right;\n",
              "    }\n",
              "</style>\n",
              "<table border=\"1\" class=\"dataframe\">\n",
              "  <thead>\n",
              "    <tr style=\"text-align: right;\">\n",
              "      <th></th>\n",
              "      <th>date</th>\n",
              "      <th>site_id</th>\n",
              "      <th>ad_type_id</th>\n",
              "      <th>geo_id</th>\n",
              "      <th>device_category_id</th>\n",
              "      <th>advertiser_id</th>\n",
              "      <th>order_id</th>\n",
              "      <th>line_item_type_id</th>\n",
              "      <th>os_id</th>\n",
              "      <th>integration_type_id</th>\n",
              "      <th>monetization_channel_id</th>\n",
              "      <th>ad_unit_id</th>\n",
              "      <th>total_impressions</th>\n",
              "      <th>total_revenue</th>\n",
              "      <th>viewable_impressions</th>\n",
              "      <th>measurable_impressions</th>\n",
              "      <th>revenue_share_percent</th>\n",
              "    </tr>\n",
              "  </thead>\n",
              "  <tbody>\n",
              "    <tr>\n",
              "      <th>0</th>\n",
              "      <td>2019-06-30 00:00:00</td>\n",
              "      <td>351</td>\n",
              "      <td>10</td>\n",
              "      <td>187</td>\n",
              "      <td>2</td>\n",
              "      <td>84</td>\n",
              "      <td>3473</td>\n",
              "      <td>19</td>\n",
              "      <td>60</td>\n",
              "      <td>1</td>\n",
              "      <td>4</td>\n",
              "      <td>5174</td>\n",
              "      <td>16</td>\n",
              "      <td>0.0</td>\n",
              "      <td>2</td>\n",
              "      <td>16</td>\n",
              "      <td>1</td>\n",
              "    </tr>\n",
              "    <tr>\n",
              "      <th>1</th>\n",
              "      <td>2019-06-30 00:00:00</td>\n",
              "      <td>351</td>\n",
              "      <td>10</td>\n",
              "      <td>187</td>\n",
              "      <td>2</td>\n",
              "      <td>84</td>\n",
              "      <td>3473</td>\n",
              "      <td>19</td>\n",
              "      <td>58</td>\n",
              "      <td>1</td>\n",
              "      <td>4</td>\n",
              "      <td>5174</td>\n",
              "      <td>6</td>\n",
              "      <td>0.0</td>\n",
              "      <td>0</td>\n",
              "      <td>6</td>\n",
              "      <td>1</td>\n",
              "    </tr>\n",
              "  </tbody>\n",
              "</table>\n",
              "</div>"
            ],
            "text/plain": [
              "                  date  site_id  ...  measurable_impressions  revenue_share_percent\n",
              "0  2019-06-30 00:00:00      351  ...                      16                      1\n",
              "1  2019-06-30 00:00:00      351  ...                       6                      1\n",
              "\n",
              "[2 rows x 17 columns]"
            ]
          },
          "metadata": {
            "tags": []
          },
          "execution_count": 65
        }
      ]
    },
    {
      "cell_type": "markdown",
      "metadata": {
        "id": "1-2-MxcpdFaH"
      },
      "source": [
        "Revenue generated by each Ad type"
      ]
    },
    {
      "cell_type": "code",
      "metadata": {
        "id": "wG982FkX-ILc",
        "outputId": "88596e97-a44b-4bf8-ef1a-6ceee9bb7024",
        "colab": {
          "base_uri": "https://localhost:8080/",
          "height": 404
        }
      },
      "source": [
        "df.drop(df.loc[df['total_revenue']==0].index, inplace=True)\n",
        "df1=df.groupby(['ad_type_id']).sum()\n",
        "df1['total_revenue'].plot(kind='pie',figsize=(5,6))\n",
        "df1['total_revenue'].reset_index(level=0)"
      ],
      "execution_count": null,
      "outputs": [
        {
          "output_type": "execute_result",
          "data": {
            "text/html": [
              "<div>\n",
              "<style scoped>\n",
              "    .dataframe tbody tr th:only-of-type {\n",
              "        vertical-align: middle;\n",
              "    }\n",
              "\n",
              "    .dataframe tbody tr th {\n",
              "        vertical-align: top;\n",
              "    }\n",
              "\n",
              "    .dataframe thead th {\n",
              "        text-align: right;\n",
              "    }\n",
              "</style>\n",
              "<table border=\"1\" class=\"dataframe\">\n",
              "  <thead>\n",
              "    <tr style=\"text-align: right;\">\n",
              "      <th></th>\n",
              "      <th>ad_type_id</th>\n",
              "      <th>total_revenue</th>\n",
              "    </tr>\n",
              "  </thead>\n",
              "  <tbody>\n",
              "    <tr>\n",
              "      <th>0</th>\n",
              "      <td>10</td>\n",
              "      <td>38795.1592</td>\n",
              "    </tr>\n",
              "    <tr>\n",
              "      <th>1</th>\n",
              "      <td>17</td>\n",
              "      <td>767.9600</td>\n",
              "    </tr>\n",
              "  </tbody>\n",
              "</table>\n",
              "</div>"
            ],
            "text/plain": [
              "   ad_type_id  total_revenue\n",
              "0          10     38795.1592\n",
              "1          17       767.9600"
            ]
          },
          "metadata": {
            "tags": []
          },
          "execution_count": 115
        },
        {
          "output_type": "display_data",
          "data": {
            "image/png": "[encoded data removed]",
            "text/plain": [
              "<Figure size 360x432 with 1 Axes>"
            ]
          },
          "metadata": {
            "tags": []
          }
        }
      ]
    },
    {
      "cell_type": "markdown",
      "metadata": {
        "id": "Hh89i3S93LXb"
      },
      "source": [
        ""
      ]
    },
    {
      "cell_type": "markdown",
      "metadata": {
        "id": "HDXK1BjqeFIb"
      },
      "source": [
        "Top 5 revenue generating sites"
      ]
    },
    {
      "cell_type": "code",
      "metadata": {
        "id": "7ky4Hvoz_CDJ",
        "outputId": "89c384c9-1b2c-4893-8e11-85fdd9a78b1a",
        "colab": {
          "base_uri": "https://localhost:8080/",
          "height": 476
        }
      },
      "source": [
        "df2=df.groupby(['site_id']).sum()\n",
        "df2=df2.sort_values(\"total_revenue\", axis = 0, ascending = False)\n",
        "df2['total_revenue'].reset_index(level=0).head(5).plot.bar(x=\"site_id\", y=\"total_revenue\",color='orange')\n",
        "df2['total_revenue'].reset_index(level=0).head(5)"
      ],
      "execution_count": null,
      "outputs": [
        {
          "output_type": "execute_result",
          "data": {
            "text/html": [
              "<div>\n",
              "<style scoped>\n",
              "    .dataframe tbody tr th:only-of-type {\n",
              "        vertical-align: middle;\n",
              "    }\n",
              "\n",
              "    .dataframe tbody tr th {\n",
              "        vertical-align: top;\n",
              "    }\n",
              "\n",
              "    .dataframe thead th {\n",
              "        text-align: right;\n",
              "    }\n",
              "</style>\n",
              "<table border=\"1\" class=\"dataframe\">\n",
              "  <thead>\n",
              "    <tr style=\"text-align: right;\">\n",
              "      <th></th>\n",
              "      <th>site_id</th>\n",
              "      <th>total_revenue</th>\n",
              "    </tr>\n",
              "  </thead>\n",
              "  <tbody>\n",
              "    <tr>\n",
              "      <th>0</th>\n",
              "      <td>349</td>\n",
              "      <td>7543.9258</td>\n",
              "    </tr>\n",
              "    <tr>\n",
              "      <th>1</th>\n",
              "      <td>351</td>\n",
              "      <td>6059.4996</td>\n",
              "    </tr>\n",
              "    <tr>\n",
              "      <th>2</th>\n",
              "      <td>345</td>\n",
              "      <td>5450.2428</td>\n",
              "    </tr>\n",
              "    <tr>\n",
              "      <th>3</th>\n",
              "      <td>346</td>\n",
              "      <td>4770.9366</td>\n",
              "    </tr>\n",
              "    <tr>\n",
              "      <th>4</th>\n",
              "      <td>343</td>\n",
              "      <td>4638.6938</td>\n",
              "    </tr>\n",
              "  </tbody>\n",
              "</table>\n",
              "</div>"
            ],
            "text/plain": [
              "   site_id  total_revenue\n",
              "0      349      7543.9258\n",
              "1      351      6059.4996\n",
              "2      345      5450.2428\n",
              "3      346      4770.9366\n",
              "4      343      4638.6938"
            ]
          },
          "metadata": {
            "tags": []
          },
          "execution_count": 111
        },
        {
          "output_type": "display_data",
          "data": {
            "image/png": "[encoded data removed]",
            "text/plain": [
              "<Figure size 432x288 with 1 Axes>"
            ]
          },
          "metadata": {
            "tags": [],
            "needs_background": "light"
          }
        }
      ]
    },
    {
      "cell_type": "markdown",
      "metadata": {
        "id": "JlmBFxqr1lAU"
      },
      "source": [
        "Top 5 revenue generating Ad units"
      ]
    },
    {
      "cell_type": "code",
      "metadata": {
        "id": "BX4eNpnLBJKl",
        "outputId": "4fa90907-cc01-46cb-c45e-b6d07419d077",
        "colab": {
          "base_uri": "https://localhost:8080/",
          "height": 483
        }
      },
      "source": [
        "df3=df.groupby(['ad_unit_id']).sum()\n",
        "df3=df3.sort_values(\"total_revenue\", axis = 0, ascending = False) \n",
        "df3['total_revenue'].reset_index(level=0).head(5).plot.bar(x=\"ad_unit_id\", y=\"total_revenue\",color='orange')\n",
        "df3['total_revenue'].reset_index(level=0).head(5)"
      ],
      "execution_count": null,
      "outputs": [
        {
          "output_type": "execute_result",
          "data": {
            "text/html": [
              "<div>\n",
              "<style scoped>\n",
              "    .dataframe tbody tr th:only-of-type {\n",
              "        vertical-align: middle;\n",
              "    }\n",
              "\n",
              "    .dataframe tbody tr th {\n",
              "        vertical-align: top;\n",
              "    }\n",
              "\n",
              "    .dataframe thead th {\n",
              "        text-align: right;\n",
              "    }\n",
              "</style>\n",
              "<table border=\"1\" class=\"dataframe\">\n",
              "  <thead>\n",
              "    <tr style=\"text-align: right;\">\n",
              "      <th></th>\n",
              "      <th>ad_unit_id</th>\n",
              "      <th>total_revenue</th>\n",
              "    </tr>\n",
              "  </thead>\n",
              "  <tbody>\n",
              "    <tr>\n",
              "      <th>0</th>\n",
              "      <td>5168</td>\n",
              "      <td>4058.3534</td>\n",
              "    </tr>\n",
              "    <tr>\n",
              "      <th>1</th>\n",
              "      <td>5159</td>\n",
              "      <td>1895.5006</td>\n",
              "    </tr>\n",
              "    <tr>\n",
              "      <th>2</th>\n",
              "      <td>5125</td>\n",
              "      <td>1826.2552</td>\n",
              "    </tr>\n",
              "    <tr>\n",
              "      <th>3</th>\n",
              "      <td>5175</td>\n",
              "      <td>1424.3960</td>\n",
              "    </tr>\n",
              "    <tr>\n",
              "      <th>4</th>\n",
              "      <td>5179</td>\n",
              "      <td>1293.7254</td>\n",
              "    </tr>\n",
              "  </tbody>\n",
              "</table>\n",
              "</div>"
            ],
            "text/plain": [
              "   ad_unit_id  total_revenue\n",
              "0        5168      4058.3534\n",
              "1        5159      1895.5006\n",
              "2        5125      1826.2552\n",
              "3        5175      1424.3960\n",
              "4        5179      1293.7254"
            ]
          },
          "metadata": {
            "tags": []
          },
          "execution_count": 110
        },
        {
          "output_type": "display_data",
          "data": {
            "image/png": "[encoded data removed]",
            "text/plain": [
              "<Figure size 432x288 with 1 Axes>"
            ]
          },
          "metadata": {
            "tags": [],
            "needs_background": "light"
          }
        }
      ]
    },
    {
      "cell_type": "code",
      "metadata": {
        "id": "sdfmPG6rBxhh",
        "outputId": "af7d42f8-e451-4f50-da50-5a26a1f784f3",
        "colab": {
          "base_uri": "https://localhost:8080/",
          "height": 233
        }
      },
      "source": [
        "df4=df[['site_id','ad_type_id','geo_id','advertiser_id','ad_unit_id','total_impressions','total_revenue']]\n",
        "df4['win_bid_price']=(df4['total_revenue']/df4['total_impressions'])*1000\n",
        "df4.reset_index(inplace = True)\n",
        "df4.head(2)"
      ],
      "execution_count": null,
      "outputs": [
        {
          "output_type": "stream",
          "text": [
            "/usr/local/lib/python3.6/dist-packages/ipykernel_launcher.py:2: SettingWithCopyWarning: \n",
            "A value is trying to be set on a copy of a slice from a DataFrame.\n",
            "Try using .loc[row_indexer,col_indexer] = value instead\n",
            "\n",
            "See the caveats in the documentation: https://pandas.pydata.org/pandas-docs/stable/user_guide/indexing.html#returning-a-view-versus-a-copy\n",
            "  \n"
          ],
          "name": "stderr"
        },
        {
          "output_type": "execute_result",
          "data": {
            "text/html": [
              "<div>\n",
              "<style scoped>\n",
              "    .dataframe tbody tr th:only-of-type {\n",
              "        vertical-align: middle;\n",
              "    }\n",
              "\n",
              "    .dataframe tbody tr th {\n",
              "        vertical-align: top;\n",
              "    }\n",
              "\n",
              "    .dataframe thead th {\n",
              "        text-align: right;\n",
              "    }\n",
              "</style>\n",
              "<table border=\"1\" class=\"dataframe\">\n",
              "  <thead>\n",
              "    <tr style=\"text-align: right;\">\n",
              "      <th></th>\n",
              "      <th>index</th>\n",
              "      <th>site_id</th>\n",
              "      <th>ad_type_id</th>\n",
              "      <th>geo_id</th>\n",
              "      <th>advertiser_id</th>\n",
              "      <th>ad_unit_id</th>\n",
              "      <th>total_impressions</th>\n",
              "      <th>total_revenue</th>\n",
              "      <th>win_bid_price</th>\n",
              "    </tr>\n",
              "  </thead>\n",
              "  <tbody>\n",
              "    <tr>\n",
              "      <th>0</th>\n",
              "      <td>285</td>\n",
              "      <td>351</td>\n",
              "      <td>10</td>\n",
              "      <td>187</td>\n",
              "      <td>8</td>\n",
              "      <td>5177</td>\n",
              "      <td>168</td>\n",
              "      <td>0.3704</td>\n",
              "      <td>2.204762</td>\n",
              "    </tr>\n",
              "    <tr>\n",
              "      <th>1</th>\n",
              "      <td>286</td>\n",
              "      <td>351</td>\n",
              "      <td>10</td>\n",
              "      <td>187</td>\n",
              "      <td>8</td>\n",
              "      <td>5177</td>\n",
              "      <td>34</td>\n",
              "      <td>0.0958</td>\n",
              "      <td>2.817647</td>\n",
              "    </tr>\n",
              "  </tbody>\n",
              "</table>\n",
              "</div>"
            ],
            "text/plain": [
              "   index  site_id  ad_type_id  ...  total_impressions  total_revenue  win_bid_price\n",
              "0    285      351          10  ...                168         0.3704       2.204762\n",
              "1    286      351          10  ...                 34         0.0958       2.817647\n",
              "\n",
              "[2 rows x 9 columns]"
            ]
          },
          "metadata": {
            "tags": []
          },
          "execution_count": 119
        }
      ]
    },
    {
      "cell_type": "markdown",
      "metadata": {
        "id": "W6fEFg2bvY72"
      },
      "source": [
        "Bidder want to maintain same impression with deviation of 20%\n",
        "\n",
        "Assumption- Bid price remain same and there will only be deviation in impressions\n",
        "\n",
        "Then we will get following revenue range for july-"
      ]
    },
    {
      "cell_type": "code",
      "metadata": {
        "id": "ta_G6Sb8sWww",
        "outputId": "4709fc8b-e984-4958-f304-a9d8a708b263",
        "colab": {
          "base_uri": "https://localhost:8080/",
          "height": 51
        }
      },
      "source": [
        "df5['Inc_revenue']=((df5['total_impressions']*1.2)*df5['win_bid_price'])/1000\n",
        "df5['Dec_revenue']=((df5['total_impressions']*0.8)*df5['win_bid_price'])/1000\n",
        "maximum=round(df5['Inc_revenue'].sum(),2)\n",
        "minimum=round(df5['Dec_revenue'].sum(),2)\n",
        "print('Total revenue in month of June-',round(df['total_revenue'].sum(),2))\n",
        "print('Potential revenue range for july-$',maximum,'-',minimum)"
      ],
      "execution_count": null,
      "outputs": [
        {
          "output_type": "stream",
          "text": [
            "Total revenue in month of June- 39563.12\n",
            "Potential revenue range for july-$ 47475.74 - 31650.5\n"
          ],
          "name": "stdout"
        }
      ]
    },
    {
      "cell_type": "code",
      "metadata": {
        "id": "LOQOZEj-xk1i"
      },
      "source": [
        ""
      ],
      "execution_count": null,
      "outputs": []
    }
  ]
}